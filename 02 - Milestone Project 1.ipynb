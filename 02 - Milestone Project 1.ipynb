{
 "cells": [
  {
   "cell_type": "markdown",
   "metadata": {},
   "source": [
    "<h1>Milestone Project 1 - Tic Tac toe Game</h1>\n",
    "\n",
    "Here are the requirements:<br>\n",
    "• 2 players should be able to play the game (both sitting at the same computer)<br>\n",
    "• The board should be printed out every time a player makes a move<br>\n",
    "• You should be able to accept input of the player position and then place a symbol on the board<br>"
   ]
  },
  {
   "cell_type": "code",
   "execution_count": null,
   "metadata": {},
   "outputs": [],
   "source": [
    "#Função para a apresentação do painel do jogo \n",
    "\n",
    "from IPython.display import clear_output\n",
    "\n",
    "def print_board(board_position):\n",
    "    clear_output()\n",
    "    print('   |   |   ')\n",
    "    print(f' {board_position[6]} | {board_position[7]} | {board_position[8]} ')\n",
    "    print('___|___|___') \n",
    "    print('   |   |   ')\n",
    "    print(f' {board_position[3]} | {board_position[4]} | {board_position[5]} ')\n",
    "    print('___|___|___')\n",
    "    print('   |   |   ')\n",
    "    print(f' {board_position[0]} | {board_position[1]} | {board_position[2]} ')\n",
    "    print('   |   |   ')\n"
   ]
  },
  {
   "cell_type": "code",
   "execution_count": null,
   "metadata": {},
   "outputs": [],
   "source": [
    "#Função anononima (lambda) para que transforma uma lista em matriz (apenas para teste)\n",
    "group = lambda flat, size: [flat[i:i+size] for i in range(0,len(flat), size)]"
   ]
  },
  {
   "cell_type": "code",
   "execution_count": null,
   "metadata": {},
   "outputs": [],
   "source": [
    "#Transforma em matriz de 3 linhas (teste)\n",
    "for i in range(0, len(board), 3):\n",
    "    print([board[i:i+3]])"
   ]
  },
  {
   "cell_type": "code",
   "execution_count": null,
   "metadata": {},
   "outputs": [],
   "source": [
    "#Iterando nas colunas (apenas para teste)\n",
    "for i in range(0,len(new_board)):\n",
    "    print(len(set([x[i] for x in new_board])))\n",
    "    if sum([x[i] for x in new_board]) == 15:\n",
    "        print('Soma 15')\n",
    "    else:\n",
    "        print('Soma normal')"
   ]
  },
  {
   "cell_type": "code",
   "execution_count": null,
   "metadata": {},
   "outputs": [],
   "source": [
    "#Função que verifica se a marca escolhida pelo jogador ganhou na linha, coluna ou diagonal\n",
    "\n",
    "def checkwin(board):\n",
    "    \n",
    "    #Transforma a lista enviada em uma matriz\n",
    "    board_matrix = [board[i:i+3] for i in range(0, len(board), 3)]\n",
    "    \n",
    "    #Diagonais\n",
    "    diag1 = [board_matrix[0][0], board_matrix[1][1], board_matrix[2][2]]\n",
    "    diag2 = [board_matrix[0][2], board_matrix[1][1], board_matrix[2][0]]\n",
    "        \n",
    "    #Faz a verificação da diagonal: Se retornar apenas um valor e o valor não for vazio\n",
    "    #significa que a marca escolhida ganhou\n",
    "    \n",
    "    #Diagonal\n",
    "    if ((len(set(diag1)) == 1 and set(diag1) != {' '}) or (len(set(diag2)) == 1 and set(diag2) != {' '})):\n",
    "        return True\n",
    "    \n",
    "    #Linhas \n",
    "    for l in board_matrix:\n",
    "        if len(set(l)) == 1 and set(l) != {' '}:\n",
    "            return True\n",
    "    \n",
    "    #colunas\n",
    "    for i in range(0, len(board_matrix)):\n",
    "        if len(set([x[i] for x in board_matrix])) == 1 and set([x[i] for x in board_matrix]) != {' '}:\n",
    "            return True\n",
    "        \n",
    "    return False"
   ]
  },
  {
   "cell_type": "code",
   "execution_count": null,
   "metadata": {},
   "outputs": [],
   "source": [
    "#Funçao que retorna a escolha do usuário por X ou O\n",
    "\n",
    "def user_choice():\n",
    "    marker = ''\n",
    "    \n",
    "    #Solicita que o jogador1 escolha entre x ou o\n",
    "    while marker not in ('X', 'O'):\n",
    "        marker = input('Jogador 1, escolha X ou O: ')\n",
    "    \n",
    "    jogador1 = marker\n",
    "\n",
    "    #Atribui ao jogador 2 a escolha oposto a do jogador 1\n",
    "    if jogador1 == 'X':\n",
    "        jogador2 = 'O'\n",
    "    else:\n",
    "        jogador2 = 'X'\n",
    "    \n",
    "    return (jogador1, jogador2)"
   ]
  },
  {
   "cell_type": "code",
   "execution_count": null,
   "metadata": {},
   "outputs": [],
   "source": [
    "#Função que verifica se o board está completo\n",
    "\n",
    "def full_board_chek(board):\n",
    "    \n",
    "    return board.count(' ') == 0"
   ]
  },
  {
   "cell_type": "code",
   "execution_count": null,
   "metadata": {},
   "outputs": [],
   "source": [
    "full_board_chek(board)"
   ]
  },
  {
   "cell_type": "code",
   "execution_count": null,
   "metadata": {},
   "outputs": [],
   "source": [
    "#Função que verifica se a posição escolhida pelo usuário pode ser ocupada\n",
    "# Verifica se a posição já possui uma marca\n",
    "\n",
    "def space_check(board, position):\n",
    "    \n",
    "    return board[position] == ' '"
   ]
  },
  {
   "cell_type": "code",
   "execution_count": null,
   "metadata": {},
   "outputs": [],
   "source": [
    "# O jogo\n",
    "\n",
    "board_position = [' '] * 9\n",
    "\n",
    "print_board(board_position)\n",
    "\n",
    "player1, player2 = user_choice()\n",
    "\n",
    "print('Jogador 1: ', player1, '\\nJogador 2: ', player2)\n",
    "\n",
    "time = 'p1'\n",
    "\n",
    "while True:\n",
    "    \n",
    "    guess = int(input('Digite o número referente a posição que deseja jogar: '))\n",
    "    \n",
    "    if guess not in range(1,10):\n",
    "        print('Digite um número de 1-9')\n",
    "        continue\n",
    "    \n",
    "    #Verifica se a posição pode ser ocupada\n",
    "    if space_check(board_position, guess-1):\n",
    "        \n",
    "        #Colocar a marca na posição escolhida na lista\n",
    "        #Alternar entre player1 e player2\n",
    "        if time == 'p1':\n",
    "            board_position[guess-1] = player1\n",
    "            print_board(board_position)\n",
    "            time = 'p2'\n",
    "        else:\n",
    "            board_position[guess-1] = player2\n",
    "            print_board(board_position)\n",
    "            time = 'p1'\n",
    "    else:\n",
    "        print('Esta posição já foi ocupada.')\n",
    "        continue\n",
    "    \n",
    "    #Verifica se o painel do jogo está completo, caso esteja o jogo para\n",
    "    #e ninguém ganha.\n",
    "    if not full_board_chek(board_position):\n",
    "        if checkwin(board_position):\n",
    "            print('Você ganhou!!')\n",
    "            break\n",
    "    else:\n",
    "        print('Deu velha!')\n",
    "        break"
   ]
  }
 ],
 "metadata": {
  "kernelspec": {
   "display_name": "Python 3",
   "language": "python",
   "name": "python3"
  },
  "language_info": {
   "codemirror_mode": {
    "name": "ipython",
    "version": 3
   },
   "file_extension": ".py",
   "mimetype": "text/x-python",
   "name": "python",
   "nbconvert_exporter": "python",
   "pygments_lexer": "ipython3",
   "version": "3.6.4"
  }
 },
 "nbformat": 4,
 "nbformat_minor": 2
}
